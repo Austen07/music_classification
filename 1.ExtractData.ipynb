{
 "cells": [
  {
   "cell_type": "code",
   "execution_count": 1,
   "metadata": {},
   "outputs": [],
   "source": [
    "import csv\n",
    "import os"
   ]
  },
  {
   "cell_type": "code",
   "execution_count": 2,
   "metadata": {},
   "outputs": [
    {
     "name": "stdout",
     "output_type": "stream",
     "text": [
      "['index', 'song', 'year', 'artist', 'genre', 'lyrics']\n",
      "['beyonce-knowles', 'save-the-hero', \"I lay alone awake at night\\nSorrow fills my eyes\\nBut I'm not strong enough to cry\\nDespite of my disguise\\nI'm left with no shoulder\\nBut everybody wants to lean on me\\nI guess I'm their soldier\\nWell, who's gonna be mine?\\nWho's there to save the hero\\nWhen she's left all alone?\\nAnd she's crying out for help\\nWho's there to save the hero?\\nWho's there to save the girl\\nAfter she saves the world?\\nAfter she saves the world\\nI bottle all my hurt inside\\nI guess I'm living a lie\\nInside my mind each day I die\\nWhat can bring me back to life?\\nA simple word, a gesture\\nSomeone to say you're beautiful\\nCome find this buried treasure\\nWith eyes lead to a pot of gold\\nWho's there to save the hero\\nWhen she's left all alone?\\nAnd she's crying out for help\\nWho's there to save the hero?\\nWho's there to save the girl\\nAfter she saves the world?\\nAfter she saves the world\\nI've given too much of myself\\nAnd now it's driving me crazy\\n(I'm crying out for help)\\nSometimes I wish someone would just come here\\nAnd save me, save me from myself\\nWho's there to save the hero\\nWhen she's left all alone?\\nAnd she's crying out for help\\nWho's there to save the hero?\\nWho's there to save the girl\\nAfter she saves the world?\\nAfter she saves the world\", 'Pop']\n"
     ]
    }
   ],
   "source": [
    "# read file and extract the useful data - artist Name, Song Name, lyrics, genre \n",
    "# store the useful data in a new file\n",
    "\n",
    "data = []\n",
    "included_cols = [3, 1, 5, 4]\n",
    "with open('lyrics.csv', 'r', encoding='UTF-8') as f:\n",
    "    reader = csv.reader(f)\n",
    "    header = next(reader)\n",
    "    \n",
    "    for row in reader:\n",
    "        if row[5] and len(row[5]) > 100:\n",
    "            content = list(row[i] for i in included_cols)\n",
    "            data.append(content)\n",
    "        \n",
    "print (header)\n",
    "print (data[10])"
   ]
  },
  {
   "cell_type": "code",
   "execution_count": 3,
   "metadata": {},
   "outputs": [
    {
     "name": "stdout",
     "output_type": "stream",
     "text": [
      "the number of genres is:  12\n",
      "[('Rock', 106478), ('Pop', 40081), ('Hip-Hop', 24553), ('Not Available', 22647), ('Metal', 22517), ('Country', 14277), ('Jazz', 7794), ('Electronic', 7427), ('Other', 5137), ('R&B', 3379), ('Indie', 3089), ('Folk', 2083)]\n"
     ]
    }
   ],
   "source": [
    "import operator\n",
    "\n",
    "genres = {}\n",
    "for song in data:\n",
    "    genre = song[3]\n",
    "    if not genre == 'none':\n",
    "        if genres.get(genre):\n",
    "            genres[genre] += 1\n",
    "        else:\n",
    "            genres[genre] = 1\n",
    "\n",
    "genres = sorted(genres.items(), key=operator.itemgetter(1),reverse=True)\n",
    "print(\"the number of genres is: \", len(genres))\n",
    "print (genres)"
   ]
  },
  {
   "cell_type": "code",
   "execution_count": 4,
   "metadata": {},
   "outputs": [
    {
     "name": "stdout",
     "output_type": "stream",
     "text": [
      "the number of songs is :  25000\n",
      "{'Rock': 5000, 'Metal': 5000, 'Jazz': 5000, 'Country': 5000, 'Pop': 5000}\n"
     ]
    }
   ],
   "source": [
    "# select five genres: Rock', 'Pop', 'Jazz', 'Metal', 'Country\n",
    "# does not choose other genres because there are non-English songs in those genres.\n",
    "# write useful data to new csv file\n",
    "# format: artistName, SongName, lyrics, genre \n",
    "\n",
    "classes = ['Rock', 'Pop', 'Jazz', 'Metal', 'Country']\n",
    "\n",
    "count = {\"Rock\":0, \"Pop\":0, \"Jazz\":0, \"Metal\":0, \"Country\":0}\n",
    "test_count = {\"Rock\":0, \"Pop\":0, \"Jazz\":0, \"Metal\":0, \"Country\":0}\n",
    "test = []\n",
    "\n",
    "total = 0\n",
    "with open(\"songs.csv\", 'w', encoding='UTF-8',newline='') as f:\n",
    "    writer = csv.writer(f)\n",
    "    headers = ['artistName','songName','lyrics','genre']\n",
    "    writer.writerows([header])\n",
    "    \n",
    "    for row in data:\n",
    "        if row[3] in classes:\n",
    "            if count[row[3]] < 5000:\n",
    "                total += 1\n",
    "                writer.writerows([row])\n",
    "                count[row[3]] += 1\n",
    "            else:\n",
    "                test_count[row[3]] += 1\n",
    "                test.append(row)\n",
    "        \n",
    "print (\"the number of songs is : \", total)\n",
    "print (count)"
   ]
  },
  {
   "cell_type": "code",
   "execution_count": 5,
   "metadata": {},
   "outputs": [
    {
     "name": "stdout",
     "output_type": "stream",
     "text": [
      "the number of testing songs: 4325\n"
     ]
    }
   ],
   "source": [
    "with open(\"test.csv\", 'w', encoding='UTF-8',newline='') as f:\n",
    "    writer = csv.writer(f)\n",
    "    headers = ['artistName','songName','lyrics','genre']\n",
    "    writer.writerows([header])\n",
    "    for row in test:\n",
    "        writer.writerows([row])\n",
    "\n",
    "print(\"the number of testing songs:\" , len(test))"
   ]
  }
 ],
 "metadata": {
  "kernelspec": {
   "display_name": "Python 3",
   "language": "python",
   "name": "python3"
  },
  "language_info": {
   "codemirror_mode": {
    "name": "ipython",
    "version": 3
   },
   "file_extension": ".py",
   "mimetype": "text/x-python",
   "name": "python",
   "nbconvert_exporter": "python",
   "pygments_lexer": "ipython3",
   "version": "3.5.6"
  }
 },
 "nbformat": 4,
 "nbformat_minor": 2
}
