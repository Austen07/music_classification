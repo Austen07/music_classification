{
 "cells": [
  {
   "cell_type": "code",
   "execution_count": 1,
   "metadata": {},
   "outputs": [],
   "source": [
    "import numpy as np\n",
    "import csv\n",
    "import os\n",
    "import re\n",
    "import string"
   ]
  },
  {
   "cell_type": "code",
   "execution_count": 2,
   "metadata": {},
   "outputs": [],
   "source": [
    "# process the lyrics\n",
    "def process_lyric(lyrics, regex):\n",
    "    result = []\n",
    "    \n",
    "    for word in lyrics:\n",
    "        word = word.lower()\n",
    "        word = regex.sub('', word)\n",
    "        result.append(word)\n",
    "        \n",
    "    return(result)\n",
    "\n",
    "class Lyrics(object):\n",
    "    def __init__(self, filename='songs.csv'):\n",
    "        self.name = filename\n",
    "    \n",
    "    def __iter__(self):\n",
    "        with open(self.name, 'r', encoding='UTF-8') as f:\n",
    "            reader = csv.reader(f)\n",
    "            header = next(reader)\n",
    "            \n",
    "            regex = re.compile('[%s]' % re.escape(string.punctuation))\n",
    "            \n",
    "            for row in reader:\n",
    "                lyrics = process_lyric(row[2].replace(\"\\n\",\"\").split(\" \"), regex)\n",
    "                lyrics = [word for word in lyrics if word != '']\n",
    "                yield lyrics\n",
    "                "
   ]
  },
  {
   "cell_type": "code",
   "execution_count": 3,
   "metadata": {},
   "outputs": [
    {
     "name": "stdout",
     "output_type": "stream",
     "text": [
      "finish\n"
     ]
    }
   ],
   "source": [
    "import warnings\n",
    "warnings.filterwarnings(action='ignore', category=UserWarning, module='gensim')\n",
    "import gensim\n",
    "\n",
    "text = Lyrics()\n",
    "model = gensim.models.Word2Vec(text, workers=4, window=5, size=100, min_count=2)\n",
    "model.save('wordTovector.model')\n",
    "print(\"finish\")"
   ]
  },
  {
   "cell_type": "code",
   "execution_count": 4,
   "metadata": {},
   "outputs": [
    {
     "name": "stdout",
     "output_type": "stream",
     "text": [
      "finish\n"
     ]
    }
   ],
   "source": [
    "import pickle\n",
    "\n",
    "def matrixize(lyrics):\n",
    "    matrix = []\n",
    "    \n",
    "    for word in lyrics:\n",
    "        if word in model.wv.vocab:\n",
    "            matrix.append(np.ndarray.tolist(model.wv.__getitem__(word)))\n",
    "            \n",
    "    return matrix\n",
    "\n",
    "def write_file(filename, data):\n",
    "     with open(\"matrix_Folder/\" + filename, \"wb\") as f:\n",
    "        pickle.dump(data, f)\n",
    "        \n",
    "\n",
    "#  read songs.csv, process lyrics, word2vector the lyrics of each song and write them to files\n",
    "def wordToVector(filename):\n",
    "    with open(filename, 'r', encoding='UTF-8') as f:\n",
    "        reader = csv.reader(f)\n",
    "        header = next(reader)\n",
    "        \n",
    "        regex = re.compile('[%s]' % re.escape(string.punctuation))\n",
    "        count = 0\n",
    "        for row in reader:\n",
    "            lyrics = process_lyric(row[2].replace(\"\\n\",\"\").split(\" \"), regex)\n",
    "            lyrics = [word for word in lyrics if word != '']\n",
    "            \n",
    "            matrix = matrixize(lyrics)\n",
    "            write_name = \"matrix\" + str(count) + \".txt\"\n",
    "            write_file(write_name, matrix)\n",
    "            \n",
    "            count += 1\n",
    "\n",
    "\n",
    "wordToVector(\"songs.csv\")\n",
    "print(\"finish\")"
   ]
  },
  {
   "cell_type": "markdown",
   "metadata": {},
   "source": [
    "===== Analyze the distribution of the lyric length, to find a proper paddding size====="
   ]
  },
  {
   "cell_type": "code",
   "execution_count": 5,
   "metadata": {},
   "outputs": [
    {
     "name": "stdout",
     "output_type": "stream",
     "text": [
      "finish\n"
     ]
    }
   ],
   "source": [
    "path=\"matrix_Folder/matrix\"\n",
    "        \n",
    "count_list = []\n",
    "for i in range(25000):\n",
    "    file_name = path + str(i) + \".txt\"\n",
    "    with open(file_name, 'rb') as f:\n",
    "        lyric = pickle.load(f)\n",
    "        count_list.append(len(lyric))\n",
    "        \n",
    "print(\"finish\")"
   ]
  },
  {
   "cell_type": "code",
   "execution_count": 7,
   "metadata": {},
   "outputs": [
    {
     "data": {
      "image/png": "[encoded data removed]",
      "text/plain": [
       "<Figure size 432x288 with 1 Axes>"
      ]
     },
     "metadata": {
      "needs_background": "light"
     },
     "output_type": "display_data"
    }
   ],
   "source": [
    "# To find a proper padding size\n",
    "# Plot the frequency of songs according to their lyrics length.\n",
    "\n",
    "import matplotlib.pyplot as plt\n",
    "# print(count_list)\n",
    "plt.hist(count_list)\n",
    "\n",
    "plt.xlabel('The length of lyrics')\n",
    "plt.ylabel('Frequency')\n",
    "plt.savefig('padding.png')\n",
    "plt.show()"
   ]
  },
  {
   "cell_type": "markdown",
   "metadata": {},
   "source": [
    "So set the padding_size = 500, which will be used in the train.ipynb"
   ]
  }
 ],
 "metadata": {
  "kernelspec": {
   "display_name": "Python 3",
   "language": "python",
   "name": "python3"
  },
  "language_info": {
   "codemirror_mode": {
    "name": "ipython",
    "version": 3
   },
   "file_extension": ".py",
   "mimetype": "text/x-python",
   "name": "python",
   "nbconvert_exporter": "python",
   "pygments_lexer": "ipython3",
   "version": "3.5.6"
  }
 },
 "nbformat": 4,
 "nbformat_minor": 2
}
